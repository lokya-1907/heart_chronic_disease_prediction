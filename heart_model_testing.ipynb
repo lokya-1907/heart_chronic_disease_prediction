{
  "nbformat": 4,
  "nbformat_minor": 0,
  "metadata": {
    "colab": {
      "provenance": []
    },
    "kernelspec": {
      "name": "python3",
      "display_name": "Python 3"
    },
    "language_info": {
      "name": "python"
    }
  },
  "cells": [
    {
      "cell_type": "code",
      "source": [
        "labels = ['age', 'sex', 'cp', 'trestbps', 'restecg', 'thalach', 'exang',\n",
        "       'oldpeak', 'slope', 'ca', 'thal']\n",
        "inputs = []\n",
        "for lable in labels:\n",
        "  inputs.append(int(input('enter '+ lable + ':')))\n",
        "inputs"
      ],
      "metadata": {
        "colab": {
          "base_uri": "https://localhost:8080/"
        },
        "id": "A0sHeoSqyyBH",
        "outputId": "1b6fe5d7-488e-4c13-f14c-501c2514be90"
      },
      "execution_count": 2,
      "outputs": [
        {
          "name": "stdout",
          "output_type": "stream",
          "text": [
            "enter age:25\n",
            "enter sex:1\n",
            "enter cp:1\n",
            "enter trestbps:1\n",
            "enter restecg:1\n",
            "enter thalach:1\n",
            "enter exang:1\n",
            "enter oldpeak:1\n",
            "enter slope:1\n",
            "enter ca:1\n",
            "enter thal:1\n"
          ]
        },
        {
          "output_type": "execute_result",
          "data": {
            "text/plain": [
              "[25, 1, 1, 1, 1, 1, 1, 1, 1, 1, 1]"
            ]
          },
          "metadata": {},
          "execution_count": 2
        }
      ]
    },
    {
      "cell_type": "code",
      "source": [
        "from keras.models import load_model\n",
        "import numpy as np\n",
        "obj = load_model('/content/heart.h5')\n",
        "\n",
        "in_array = np.array([inputs])\n",
        "result = obj.predict(in_array)\n",
        "\n",
        "if result > 0.5:\n",
        "  print(\"Heart Disease\")\n",
        "else:\n",
        "  print(\"No Disease\")"
      ],
      "metadata": {
        "colab": {
          "base_uri": "https://localhost:8080/"
        },
        "id": "t534l8R804_U",
        "outputId": "b5bd24cd-c038-4080-99bf-2bd89282f11a"
      },
      "execution_count": 3,
      "outputs": [
        {
          "output_type": "stream",
          "name": "stderr",
          "text": [
            "WARNING:absl:Compiled the loaded model, but the compiled metrics have yet to be built. `model.compile_metrics` will be empty until you train or evaluate the model.\n"
          ]
        },
        {
          "output_type": "stream",
          "name": "stdout",
          "text": [
            "\u001b[1m1/1\u001b[0m \u001b[32m━━━━━━━━━━━━━━━━━━━━\u001b[0m\u001b[37m\u001b[0m \u001b[1m0s\u001b[0m 133ms/step\n",
            "No Disease\n"
          ]
        }
      ]
    },
    {
      "cell_type": "code",
      "source": [],
      "metadata": {
        "id": "bX6YEzwo0-FE"
      },
      "execution_count": null,
      "outputs": []
    }
  ]
}